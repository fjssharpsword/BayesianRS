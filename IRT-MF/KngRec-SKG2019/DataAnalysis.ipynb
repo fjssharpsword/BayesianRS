{
 "cells": [
  {
   "cell_type": "code",
   "execution_count": 10,
   "metadata": {},
   "outputs": [
    {
     "name": "stdout",
     "output_type": "stream",
     "text": [
      "Dataset shape of month 6 is:1893595 rows and 9 columns\n",
      "Dataset shape of month 7 is:1933870 rows and 9 columns\n",
      "Dataset shape of month 8 is:2076182 rows and 9 columns\n",
      "Dataset shape of month 9 is:2051092 rows and 9 columns\n",
      "Dataset shape of month 10 is:1881882 rows and 9 columns\n",
      "Dataset shape of month 11 is:2223703 rows and 9 columns\n",
      "Dataset shape of training data is:12060324 rows and 4 columns\n",
      "Dataset shape of month 12 is:2116578 rows and 9 columns\n",
      "Dataset shape of testing data is:2116578 rows and 4 columns\n"
     ]
    }
   ],
   "source": [
    "import pandas as pd\n",
    "#数据集从6月到12月\n",
    "#1.6-11月作为训练集\n",
    "data = pd.read_csv(\"/data/fjsdata/ctKngBase/201706.csv\", sep=',', low_memory=False,encoding = 'gb18030')\n",
    "print ('Dataset shape of month 6 is:%d rows and %d columns'%(data.shape[0],data.shape[1]))\n",
    "data_training=data\n",
    "data = pd.read_csv(\"/data/fjsdata/ctKngBase/201707.csv\", sep=',', low_memory=False,encoding = 'gb18030')\n",
    "print ('Dataset shape of month 7 is:%d rows and %d columns'%(data.shape[0],data.shape[1]))\n",
    "data_training=pd.concat([data_training, data], axis=0)\n",
    "data = pd.read_csv(\"/data/fjsdata/ctKngBase/201708.csv\", sep=',', low_memory=False,encoding = 'gb18030')\n",
    "print ('Dataset shape of month 8 is:%d rows and %d columns'%(data.shape[0],data.shape[1]))\n",
    "data_training=pd.concat([data_training, data], axis=0)\n",
    "data = pd.read_csv(\"/data/fjsdata/ctKngBase/201709.csv\", sep=',', low_memory=False,encoding = 'gb18030')\n",
    "print ('Dataset shape of month 9 is:%d rows and %d columns'%(data.shape[0],data.shape[1]))\n",
    "data_training=pd.concat([data_training, data], axis=0)\n",
    "data = pd.read_csv(\"/data/fjsdata/ctKngBase/201710.csv\", sep=',', low_memory=False,encoding = 'gb18030')\n",
    "print ('Dataset shape of month 10 is:%d rows and %d columns'%(data.shape[0],data.shape[1]))\n",
    "data_training=pd.concat([data_training, data], axis=0)\n",
    "data = pd.read_csv(\"/data/fjsdata/ctKngBase/201711.csv\", sep=',', low_memory=False,encoding = 'gb18030')\n",
    "print ('Dataset shape of month 11 is:%d rows and %d columns'%(data.shape[0],data.shape[1]))\n",
    "data_training=pd.concat([data_training, data], axis=0)\n",
    "data_training = data_training[['STAFF_CODE','KNLG_ID','VISIT_TIME','CITY_NAME']]\n",
    "print ('Dataset shape of training data is:%d rows and %d columns'%(data_training.shape[0],data_training.shape[1]))\n",
    "data_training.to_csv(\"/data/fjsdata/ctKngBase/traindata.csv\",index=False,sep='|')\n",
    "#2.12月作为测试集\n",
    "data = pd.read_csv(\"/data/fjsdata/ctKngBase/201712.csv\", sep=',', low_memory=False,encoding = 'gb18030')\n",
    "print ('Dataset shape of month 12 is:%d rows and %d columns'%(data.shape[0],data.shape[1]))\n",
    "data_testing=data\n",
    "data_testing = data_testing[['STAFF_CODE','KNLG_ID','VISIT_TIME','CITY_NAME']]\n",
    "print ('Dataset shape of testing data is:%d rows and %d columns'%(data_testing.shape[0],data_testing.shape[1]))\n",
    "data_testing.to_csv(\"/data/fjsdata/ctKngBase/testdata.csv\",index=False,sep='|')"
   ]
  },
  {
   "cell_type": "code",
   "execution_count": 6,
   "metadata": {},
   "outputs": [],
   "source": [
    "#统计CSR对KE的行为次数\n",
    "import pandas as pd\n",
    "import numpy as np\n",
    "from sklearn.preprocessing import LabelEncoder\n",
    "\n",
    "traindata = pd.read_csv(\"/data/fjsdata/ctKngBase/traindata.csv\", sep='|', low_memory=False)\n",
    "testdata = pd.read_csv(\"/data/fjsdata/ctKngBase/testdata.csv\", sep='|', low_memory=False)\n",
    "data = pd.concat([traindata,testdata],axis=0)#合并\n",
    "data=data[['STAFF_CODE','KNLG_ID']]\n",
    "le = LabelEncoder()\n",
    "data = data.apply(le.fit_transform)#将csr和ke全部标准编号\n",
    "dict_num={}\n",
    "for csr,ke in  np.array(data).tolist():\n",
    "    dict_num.setdefault(csr,{})\n",
    "    dict_num[csr].setdefault(ke,0)\n",
    "    dict_num[csr][ke] += 1\n",
    "list_num=[]\n",
    "for csr,v in dict_num.items():\n",
    "    for ke,num in v.items():\n",
    "        list_num.append([csr,ke,num])\n",
    "#df=pd.DataFrame(dict_num.items(), columns=['csr', 'ke','num'])#dict转化为 dataframe\n",
    "df=pd.DataFrame(list_num, columns=['csr', 'ke','num'])#list转换成 dataframe\n",
    "df.to_csv('/data/fjsdata/ctKngBase/kb.csv', index=False, sep='|')"
   ]
  },
  {
   "cell_type": "code",
   "execution_count": 1,
   "metadata": {},
   "outputs": [
    {
     "name": "stdout",
     "output_type": "stream",
     "text": [
      "10216\n",
      "96324\n",
      "(2552924, 3)\n",
      "    csr     ke  num\n",
      "0  2986  42211    1\n",
      "1  2986  28115    2\n",
      "2  2986  29249    8\n",
      "3  2986  75667    1\n",
      "4  2986  74903    1\n"
     ]
    }
   ],
   "source": [
    "#训练数据\n",
    "import pandas as pd\n",
    "kbdata = traindata = pd.read_csv(\"/data/fjsdata/ctKngBase/kb.csv\", sep='|', low_memory=False)\n",
    "nCSR = len(kbdata['csr'].unique())\n",
    "nKE =len(kbdata['ke'].unique())\n",
    "print (nCSR)\n",
    "print (nKE)\n",
    "print(kbdata.shape)\n",
    "print(kbdata.head())"
   ]
  },
  {
   "cell_type": "code",
   "execution_count": 4,
   "metadata": {},
   "outputs": [
    {
     "name": "stdout",
     "output_type": "stream",
     "text": [
      "0.8801950354609929\n",
      "0.25496521196479766\n",
      "0.8677990092002827\n",
      "0.2617294888727511\n",
      "0.8772004241781542\n",
      "0.24437264334110564\n",
      "0.8806794055201697\n",
      "0.2582745394296718\n",
      "0.8688452001416932\n",
      "0.2672588712873156\n"
     ]
    }
   ],
   "source": [
    "\"\"\"\n",
    "This module illustrates how to compute Precision at k and Recall at k metrics.\n",
    "\"\"\"\n",
    "from __future__ import (absolute_import, division, print_function,\n",
    "                        unicode_literals)\n",
    "from collections import defaultdict\n",
    "\n",
    "from surprise import Dataset\n",
    "from surprise import SVD\n",
    "from surprise.model_selection import KFold\n",
    "\n",
    "\n",
    "def precision_recall_at_k(predictions, k=10, threshold=3.5):\n",
    "    '''Return precision and recall at k metrics for each user.'''\n",
    "\n",
    "    # First map the predictions to each user.\n",
    "    user_est_true = defaultdict(list)\n",
    "    for uid, _, true_r, est, _ in predictions:\n",
    "        user_est_true[uid].append((est, true_r))\n",
    "\n",
    "    precisions = dict()\n",
    "    recalls = dict()\n",
    "    for uid, user_ratings in user_est_true.items():\n",
    "\n",
    "        # Sort user ratings by estimated value\n",
    "        user_ratings.sort(key=lambda x: x[0], reverse=True)\n",
    "\n",
    "        # Number of relevant items\n",
    "        n_rel = sum((true_r >= threshold) for (_, true_r) in user_ratings)\n",
    "\n",
    "        # Number of recommended items in top k\n",
    "        n_rec_k = sum((est >= threshold) for (est, _) in user_ratings[:k])\n",
    "\n",
    "        # Number of relevant and recommended items in top k\n",
    "        n_rel_and_rec_k = sum(((true_r >= threshold) and (est >= threshold))\n",
    "                              for (est, true_r) in user_ratings[:k])\n",
    "\n",
    "        # Precision@K: Proportion of recommended items that are relevant\n",
    "        precisions[uid] = n_rel_and_rec_k / n_rec_k if n_rec_k != 0 else 1\n",
    "\n",
    "        # Recall@K: Proportion of relevant items that are recommended\n",
    "        recalls[uid] = n_rel_and_rec_k / n_rel if n_rel != 0 else 1\n",
    "\n",
    "    return precisions, recalls\n",
    "\n",
    "\n",
    "data = Dataset.load_builtin('ml-100k')\n",
    "kf = KFold(n_splits=5)\n",
    "algo = SVD()\n",
    "\n",
    "for trainset, testset in kf.split(data):\n",
    "    algo.fit(trainset)\n",
    "    predictions = algo.test(testset)\n",
    "    precisions, recalls = precision_recall_at_k(predictions, k=5, threshold=4)\n",
    "\n",
    "    # Precision and recall can then be averaged over all users\n",
    "    print(sum(prec for prec in precisions.values()) / len(precisions))\n",
    "    print(sum(rec for rec in recalls.values()) / len(recalls))"
   ]
  },
  {
   "cell_type": "code",
   "execution_count": 5,
   "metadata": {},
   "outputs": [
    {
     "name": "stdout",
     "output_type": "stream",
     "text": [
      "6040\n",
      "6040\n"
     ]
    }
   ],
   "source": [
    "#MovieLens数据集\n",
    "import scipy.sparse as sp\n",
    "import numpy as np\n",
    "\n",
    "#1.数据集\n",
    "#测试正样本\n",
    "def load_rating_file_as_list(filename):\n",
    "    ratingList = []\n",
    "    with open(filename, \"r\") as f:\n",
    "        line = f.readline()\n",
    "        while line != None and line != \"\":\n",
    "            arr = line.split(\"\\t\")\n",
    "            user, item = int(arr[0]), int(arr[1])\n",
    "            ratingList.append([user, item])\n",
    "            line = f.readline()\n",
    "    return ratingList\n",
    "#测试负样本\n",
    "def load_negative_file(filename):\n",
    "    negativeList = []\n",
    "    with open(filename, \"r\") as f:\n",
    "        line = f.readline()\n",
    "        while line != None and line != \"\":\n",
    "            arr = line.split(\"\\t\")\n",
    "            negatives = []\n",
    "            for x in arr[1: ]:\n",
    "                negatives.append(int(x))\n",
    "            negativeList.append(negatives)\n",
    "            line = f.readline()\n",
    "    return negativeList\n",
    "#训练矩阵\n",
    "def load_rating_file_as_matrix(filename):\n",
    "    #Read .rating file and Return dok matrix.\n",
    "    #The first line of .rating file is: num_users\\t num_items\n",
    "    # Get number of users and items\n",
    "    num_users, num_items = 0, 0\n",
    "    with open(filename, \"r\") as f:\n",
    "        line = f.readline()\n",
    "        while line != None and line != \"\":\n",
    "            arr = line.split(\"\\t\")\n",
    "            u, i = int(arr[0]), int(arr[1])\n",
    "            num_users = max(num_users, u)\n",
    "            num_items = max(num_items, i)\n",
    "            line = f.readline()\n",
    "    # Construct matrix\n",
    "    mat = sp.dok_matrix((num_users+1, num_items+1), dtype=np.float32)\n",
    "    with open(filename, \"r\") as f:\n",
    "        line = f.readline()\n",
    "        while line != None and line != \"\":\n",
    "            arr = line.split(\"\\t\")\n",
    "            user, item, rating = int(arr[0]), int(arr[1]), float(arr[2])\n",
    "            if (rating > 0):\n",
    "                mat[user, item] = 1.0\n",
    "            line = f.readline()    \n",
    "    return mat\n",
    "trainMatrix = load_rating_file_as_matrix(\"/data/fjsdata/ctKngBase/ml/ml-1m.train.rating\")\n",
    "testRatings = load_rating_file_as_list(\"/data/fjsdata/ctKngBase/ml/ml-1m.test.rating\")\n",
    "testNegatives = load_negative_file(\"/data/fjsdata/ctKngBase/ml/ml-1m.test.negative\")\n",
    "#2.模型\n",
    "print (len(testRatings))\n",
    "print (len(testNegatives))"
   ]
  },
  {
   "cell_type": "code",
   "execution_count": 3,
   "metadata": {},
   "outputs": [
    {
     "name": "stdout",
     "output_type": "stream",
     "text": [
      "Dataset shape is:2547452 rows and 3 columns\n",
      "Trainset shape is:2292706 rows and 3 columns\n",
      "Testset shape is:263708 rows and 3 columns\n"
     ]
    }
   ],
   "source": [
    "#Dataset Handling\n",
    "import surprise as sp\n",
    "import pandas as pd\n",
    "import numpy as np\n",
    "import random\n",
    "from collections import defaultdict\n",
    "import matplotlib.pyplot as plt\n",
    "from sklearn.model_selection import train_test_split\n",
    "\n",
    "#1.Loading the dataset and Excluding the outliers\n",
    "kbdata = pd.read_csv(\"/data/fjsdata/ctKngBase/kb.csv\", sep='|', low_memory=False)\n",
    "#seven month multiply thirty days per month is equal to 210,and one time per day multiply 210 is 210.\n",
    "kbdata = kbdata.loc[(kbdata['num']<200)]\n",
    "print ('Dataset shape is:%d rows and %d columns'%(kbdata.shape[0],kbdata.shape[1]))\n",
    "\n",
    "'''\n",
    "dict_csr={}\n",
    "for csr,ke,num in  np.array(kbdata).tolist():\n",
    "    dict_csr.setdefault(csr,{})\n",
    "    dict_csr[csr].setdefault(ke,0)\n",
    "    dict_csr[csr][ke] = num\n",
    "list_train=[]\n",
    "list_test=[]\n",
    "for csr in dict_csr:\n",
    "    list_csr=[]\n",
    "    for ke in dict_csr[csr]:\n",
    "        num=dict_csr[csr][ke]\n",
    "        list_csr.append([csr,ke,num])\n",
    "    list_test_csr=list_csr[::10]#Getting one per ten\n",
    "    list_train_csr = [x for x in list_csr if x not in list_test]\n",
    "    list_test.extend(list_test_csr)\n",
    "    list_train.extend(list_train_csr)\n",
    "\n",
    "list_train=[]\n",
    "list_test=[]\n",
    "list_ke = np.array(kbdata['ke']).tolist()\n",
    "for csr in np.array(kbdata['csr']).tolist():\n",
    "    csrArr = kbdata[kbdata['csr']==csr]\n",
    "    train, test = train_test_split(csrArr, test_size=0.1)\n",
    "    list_train.extend(np.array(train).tolist())\n",
    "    list_test.extend(np.array(test).tolist())#pos\n",
    "    list_ke_csr = np.array(csrArr['ke']).tolist()\n",
    "    list_ke_csr_neg = [x for x in list_ke if x not in list_ke_csr]\n",
    "    list_ke_csr_neg = random.sample(list_ke_csr_neg, min(test.shape[0]*10,30))#pos:neg=1:10,at least 30\n",
    "    for ke in list_ke_csr_neg:\n",
    "        list_test.append([csr,ke,0])#neg\n",
    "'''\n",
    "#2.generating the trainset.\n",
    "trainset, testset = train_test_split(kbdata, test_size=0.1)\n",
    "trainset.to_csv('/data/fjsdata/ctKngBase/trainset.csv', index=False, sep='|')\n",
    "print ('Trainset shape is:%d rows and %d columns'%(trainset.shape[0],trainset.shape[1]))\n",
    "\n",
    "#3.generating the testset.\n",
    "list_ke = np.array(kbdata['ke']).tolist() #get all items\n",
    "list_ke =  list(set(list_ke)) #drop duplicate\n",
    "list_csr = np.array(testset['csr']).tolist()\n",
    "dict_test ={}\n",
    "for csr,ke,num in  np.array(testset).tolist():\n",
    "    dict_test.setdefault(csr,{})\n",
    "    dict_test[csr].setdefault(ke,0)\n",
    "    dict_test[csr][ke] = num\n",
    "for csr in list_csr:\n",
    "    list_ke_csr = [x for x in random.sample(list_ke,50) if x not in dict_test[csr]]\n",
    "    dict_test.setdefault(csr,{})\n",
    "    dict_test[csr].setdefault(ke,0)#negtive sample\n",
    "list_test=[]\n",
    "for csr,v in dict_test.items():\n",
    "    for ke,num in v.items():\n",
    "        list_test.append([csr,ke,num])\n",
    "testset=pd.DataFrame(list_test, columns=['csr', 'ke','num'])#list转换成 dataframe\n",
    "testset.to_csv('/data/fjsdata/ctKngBase/testset.csv', index=False, sep='|')\n",
    "print ('Testset shape is:%d rows and %d columns'%(testset.shape[0],testset.shape[1]))"
   ]
  },
  {
   "cell_type": "code",
   "execution_count": 2,
   "metadata": {},
   "outputs": [
    {
     "name": "stdout",
     "output_type": "stream",
     "text": [
      "Dataset shape is:2547452 rows and 3 columns\n",
      "Trainset shape is:2292706 rows and 3 columns\n",
      "Testset shape is:254746 rows and 3 columns\n"
     ]
    }
   ],
   "source": [
    "#Dataset Handling\n",
    "import surprise as sp\n",
    "import pandas as pd\n",
    "import numpy as np\n",
    "import random\n",
    "from collections import defaultdict\n",
    "import matplotlib.pyplot as plt\n",
    "from sklearn.model_selection import train_test_split\n",
    "\n",
    "#1.Loading the dataset and Excluding the outliers\n",
    "kbdata = pd.read_csv(\"/data/fjsdata/ctKngBase/kb.csv\", sep='|', low_memory=False)\n",
    "#seven month multiply thirty days per month is equal to 210,and one time per day multiply 210 is 210.\n",
    "kbdata = kbdata.loc[(kbdata['num']<200)]\n",
    "print ('Dataset shape is:%d rows and %d columns'%(kbdata.shape[0],kbdata.shape[1]))\n",
    "\n",
    "trainset, testset = train_test_split(kbdata, test_size=0.1)\n",
    "#2.generating the trainset and testset\n",
    "trainset.to_csv('/data/fjsdata/ctKngBase/trainset.csv', index=False, sep='|')\n",
    "print ('Trainset shape is:%d rows and %d columns'%(trainset.shape[0],trainset.shape[1]))\n",
    "'''\n",
    "#3.generating the testset.\n",
    "list_ke = np.array(trainset['ke']).tolist() #get all items\n",
    "list_ke =  list(set(list_ke)) #drop duplicate\n",
    "list_csr = np.array(testset['csr']).tolist()\n",
    "list_csr = list(set(list_csr))\n",
    "list_test =np.array(testset).tolist()\n",
    "for csr in list_csr:\n",
    "    csr_ke = testset[testset['csr']==csr]\n",
    "    for ke in random.sample(list_ke,30):\n",
    "        if ke not in np.array(csr_ke['ke'].tolist()):\n",
    "            list_test.append([csr,ke,0])\n",
    "testset=pd.DataFrame(list_test, columns=['csr', 'ke','num'])#list转换成 dataframe\n",
    "'''\n",
    "testset.to_csv('/data/fjsdata/ctKngBase/testset.csv', index=False, sep='|')\n",
    "print ('Testset shape is:%d rows and %d columns'%(testset.shape[0],testset.shape[1]))"
   ]
  },
  {
   "cell_type": "code",
   "execution_count": 3,
   "metadata": {},
   "outputs": [
    {
     "name": "stdout",
     "output_type": "stream",
     "text": [
      "Dataset shape is:2547452 rows and 3 columns\n",
      "10216\n",
      "96324\n",
      "984045984\n",
      "dataset density:0.002589\n"
     ]
    }
   ],
   "source": [
    "#Dataset Handling\n",
    "import surprise as sp\n",
    "import pandas as pd\n",
    "import numpy as np\n",
    "import random\n",
    "from collections import defaultdict\n",
    "import matplotlib.pyplot as plt\n",
    "from sklearn.model_selection import train_test_split\n",
    "\n",
    "#1.Loading the dataset and Excluding the outliers\n",
    "kbdata = pd.read_csv(\"/data/fjsdata/ctKngBase/kb.csv\", sep='|', low_memory=False)\n",
    "#seven month multiply thirty days per month is equal to 210,and one time per day multiply 210 is 210.\n",
    "kbdata = kbdata.loc[(kbdata['num']<200)]\n",
    "print ('Dataset shape is:%d rows and %d columns'%(kbdata.shape[0],kbdata.shape[1]))\n",
    "\n",
    "NUM_USERS = kbdata['csr'].max() + 1\n",
    "NUM_ITEMS = kbdata['ke'].max() + 1\n",
    "print (NUM_USERS)\n",
    "print (NUM_ITEMS)\n",
    "print (NUM_USERS*NUM_ITEMS)\n",
    "print('dataset density:{:f}'.format(len(kbdata)*1.0/(NUM_USERS*NUM_ITEMS)))"
   ]
  },
  {
   "cell_type": "code",
   "execution_count": 2,
   "metadata": {},
   "outputs": [
    {
     "name": "stdout",
     "output_type": "stream",
     "text": [
      "Dataset shape is:2547452 rows and 3 columns\n",
      "32.85684754521964\n"
     ]
    },
    {
     "data": {
      "image/png": "[encoded data removed]",
      "text/plain": [
       "<Figure size 432x288 with 1 Axes>"
      ]
     },
     "metadata": {
      "needs_background": "light"
     },
     "output_type": "display_data"
    }
   ],
   "source": [
    "import numpy as np\n",
    "import matplotlib.pyplot as plt\n",
    "import pandas as pd\n",
    "import math\n",
    "\n",
    "#正态分布的概率密度函数。可以理解成 x 是 mu（均值）和 sigma（标准差）的函数\n",
    "def normfun(x,mu,sigma):\n",
    "    pdf = np.exp(-((x - mu)**2)/(2*sigma**2)) / (sigma * np.sqrt(2*np.pi))\n",
    "    return pdf\n",
    "\n",
    "#1.Loading the dataset and Excluding the outliers\n",
    "kbdata = pd.read_csv(\"/data/fjsdata/ctKngBase/kb.csv\", sep='|', low_memory=False)\n",
    "#seven month multiply thirty days per month is equal to 210,and one time per day multiply 210 is 210.\n",
    "kbdata = kbdata.loc[(kbdata['num']<200)]\n",
    "print ('Dataset shape is:%d rows and %d columns'%(kbdata.shape[0],kbdata.shape[1]))\n",
    "\n",
    "csr2986= kbdata[kbdata['csr']==2986]\n",
    "sigma = csr2986['num'].mean()\n",
    "#ke28115 = kbdata[kbdata['ke']==28115]\n",
    "ke26677 = kbdata[kbdata['ke']==26677]\n",
    "mu = ke26677['num'].mean()\n",
    "print (mu)\n",
    "#print (ke26677['num'].value_counts())\n",
    "\n",
    "# Python实现正态分布\n",
    "# 绘制正态分布概率密度函数\n",
    "x = np.linspace(mu - 3*sigma, mu + 3*sigma, 50)\n",
    "y_sig = np.exp(-(x - mu) ** 2 /(2* sigma **2))/(math.sqrt(2*math.pi)*sigma)\n",
    "plt.plot(x, y_sig, \"r-\", linewidth=2)\n",
    "plt.vlines(mu, 0, np.exp(-(mu - mu) ** 2 /(2* sigma **2))/(math.sqrt(2*math.pi)*sigma), colors = \"c\", linestyles = \"dashed\")\n",
    "plt.vlines(mu+sigma, 0, np.exp(-(mu+sigma - mu) ** 2 /(2* sigma **2))/(math.sqrt(2*math.pi)*sigma), colors = \"k\", linestyles = \"dotted\")\n",
    "plt.vlines(mu-sigma, 0, np.exp(-(mu-sigma - mu) ** 2 /(2* sigma **2))/(math.sqrt(2*math.pi)*sigma), colors = \"k\", linestyles = \"dotted\")\n",
    "plt.xticks ([mu-sigma,mu,mu+sigma],['μ-σ','μ','μ+σ'])\n",
    "plt.xlabel('User Feedback')\n",
    "plt.ylabel('Latent Traits')\n",
    "plt.title('Gaussian Distribution: $\\mu = %.2f, $sigma=%.2f'%(mu,sigma))\n",
    "plt.grid(True)\n",
    "plt.show()"
   ]
  },
  {
   "cell_type": "code",
   "execution_count": 26,
   "metadata": {},
   "outputs": [
    {
     "name": "stdout",
     "output_type": "stream",
     "text": [
      "Dataset shape is:2547452 rows and 3 columns\n",
      "4.827711768465117\n",
      "199\n",
      "1\n"
     ]
    }
   ],
   "source": [
    "import numpy as np\n",
    "import matplotlib.pyplot as plt\n",
    "import pandas as pd\n",
    "import math\n",
    "\n",
    "#1.Loading the dataset and Excluding the outliers\n",
    "kbdata = pd.read_csv(\"/data/fjsdata/ctKngBase/kb.csv\", sep='|', low_memory=False)\n",
    "#seven month multiply thirty days per month is equal to 210,and one time per day multiply 210 is 210.\n",
    "kbdata = kbdata.loc[(kbdata['num']<200)]\n",
    "print ('Dataset shape is:%d rows and %d columns'%(kbdata.shape[0],kbdata.shape[1]))\n",
    "\n",
    "mu = kbdata['num'].mean()\n",
    "print (mu)\n",
    "maxv = kbdata['num'].max()\n",
    "minv = kbdata['num'].min()\n",
    "print (maxv)\n",
    "print (minv)"
   ]
  },
  {
   "cell_type": "code",
   "execution_count": 2,
   "metadata": {},
   "outputs": [
    {
     "data": {
      "image/png": "[encoded data removed]",
      "text/plain": [
       "<Figure size 720x576 with 4 Axes>"
      ]
     },
     "metadata": {
      "needs_background": "light"
     },
     "output_type": "display_data"
    }
   ],
   "source": [
    "import matplotlib.pyplot as plt\n",
    "import matplotlib\n",
    "\n",
    "plt.figure(figsize=(10,8))\n",
    "for i in range(4): \n",
    "    if i==0:\n",
    "        plt.subplot(2,2,i+1)#2行2列\n",
    "        label_list = ['Precision', 'Recall', 'NDCG']    # 横坐标刻度显示值\n",
    "        num_list1 = [0.47032433, 0.55948026, 0.60567746]      # SVD\n",
    "        num_list2 = [0.65832681, 0.5388143, 0.62009335]      # NMF\n",
    "        num_list3 = [0.56313299, 0.54730112, 0.60876195]      # SVD++\n",
    "        num_list4 = [0.64534554, 0.54452437, 0.93450164]      # IRT-MF\n",
    "        x = range(len(num_list1))\n",
    "\n",
    "        rects1 = plt.bar(left=range(len(num_list1)), height=num_list1, width=0.2, alpha=0.8, color='blue', label=\"SVD\")\n",
    "        rects2 = plt.bar(left=[i + 0.2 for i in x], height=num_list2, width=0.2, color='green', label=\"NMF\")\n",
    "        rects3 = plt.bar(left=[i + 0.4 for i in x], height=num_list3, width=0.2, color='gray', label=\"SVD++\")\n",
    "        rects4 = plt.bar(left=[i + 0.6 for i in x], height=num_list4, width=0.2, color='red', label=\"IRT-based MF\")\n",
    "        plt.ylim(0, 1)     # y轴取值范围\n",
    "        plt.ylabel(\"Value\")\n",
    "        plt.xticks([index + 0.2 for index in x], label_list)\n",
    "        #plt.xlabel(\"k=5\")\n",
    "        plt.title(\"Top 5\")\n",
    "        plt.legend(loc='upper center',fontsize='small')\n",
    "    if i==1:\n",
    "        plt.subplot(2,2,i+1)#2行2列\n",
    "        label_list = ['Precision', 'Recall', 'NDCG']    # 横坐标刻度显示值\n",
    "        num_list1 = [0.45253877, 0.61115407, 0.65185113]      # SVD\n",
    "        num_list2 = [0.65355756, 0.56750849, 0.67294798]      # NMF\n",
    "        num_list3 = [0.55688661, 0.57658179, 0.65915632]      # SVD++\n",
    "        num_list4 = [0.63577434, 0.59990276, 0.93442357]      # IRT-MF\n",
    "        x = range(len(num_list1))\n",
    "\n",
    "        rects1 = plt.bar(left=range(len(num_list1)), height=num_list1, width=0.2, alpha=0.8, color='blue', label=\"SVD\")\n",
    "        rects2 = plt.bar(left=[i + 0.2 for i in x], height=num_list2, width=0.2, color='green', label=\"NMF\")\n",
    "        rects3 = plt.bar(left=[i + 0.4 for i in x], height=num_list3, width=0.2, color='gray', label=\"SVD++\")\n",
    "        rects4 = plt.bar(left=[i + 0.6 for i in x], height=num_list4, width=0.2, color='red', label=\"IRT-based MF\")\n",
    "        plt.ylim(0, 1)     # y轴取值范围\n",
    "        plt.ylabel(\"Value\")\n",
    "        plt.xticks([index + 0.2 for index in x], label_list)\n",
    "        #plt.xlabel(\"k=5\")\n",
    "        plt.title(\"Top 10\")\n",
    "        plt.legend(loc='upper center',fontsize='small')\n",
    "    if i==2:\n",
    "        plt.subplot(2,2,i+1)#2行2列\n",
    "        label_list = ['Precision', 'Recall', 'NDCG']    # 横坐标刻度显示值\n",
    "        num_list1 = [0.4487284, 0.62349864, 0.6751525]      # SVD\n",
    "        num_list2 = [0.6524597, 0.56908273, 0.69850724]      # NMF\n",
    "        num_list3 = [0.55609458, 0.58103371, 0.68567681]      # SVD++\n",
    "        num_list4 = [0.62920554, 0.63537925,0.93470233]      # IRT-MF\n",
    "        x = range(len(num_list1))\n",
    "\n",
    "        rects1 = plt.bar(left=range(len(num_list1)), height=num_list1, width=0.2, alpha=0.8, color='blue', label=\"SVD\")\n",
    "        rects2 = plt.bar(left=[i + 0.2 for i in x], height=num_list2, width=0.2, color='green', label=\"NMF\")\n",
    "        rects3 = plt.bar(left=[i + 0.4 for i in x], height=num_list3, width=0.2, color='gray', label=\"SVD++\")\n",
    "        rects4 = plt.bar(left=[i + 0.6 for i in x], height=num_list4, width=0.2, color='red', label=\"IRT-based MF\")\n",
    "        plt.ylim(0, 1)     # y轴取值范围\n",
    "        plt.ylabel(\"Value\")\n",
    "        plt.xticks([index + 0.2 for index in x], label_list)\n",
    "        #plt.xlabel(\"k=5\")\n",
    "        plt.title(\"Top 15\")\n",
    "        plt.legend(loc='upper center',fontsize='small')\n",
    "    if i==3:\n",
    "        plt.subplot(2,2,i+1)#2行2列\n",
    "        label_list = ['Precision', 'Recall', 'NDCG']    # 横坐标刻度显示值\n",
    "        num_list1 = [0.44774307, 0.62557144, 0.69191594]      # SVD\n",
    "        num_list2 = [0.65239916, 0.56912735, 0.71548763]      # NMF\n",
    "        num_list3 = [0.55588295, 0.58156019, 0.70300885]      # SVD++\n",
    "        num_list4 = [0.62379936, 0.66120616, 0.93491894]      # IRT-MF\n",
    "        x = range(len(num_list1))\n",
    "\n",
    "        rects1 = plt.bar(left=range(len(num_list1)), height=num_list1, width=0.2, alpha=0.8, color='blue', label=\"SVD\")\n",
    "        rects2 = plt.bar(left=[i + 0.2 for i in x], height=num_list2, width=0.2, color='green', label=\"NMF\")\n",
    "        rects3 = plt.bar(left=[i + 0.4 for i in x], height=num_list3, width=0.2, color='gray', label=\"SVD++\")\n",
    "        rects4 = plt.bar(left=[i + 0.6 for i in x], height=num_list4, width=0.2, color='red', label=\"IRT-based MF\")\n",
    "        plt.ylim(0, 1)     # y轴取值范围\n",
    "        plt.ylabel(\"Value\")\n",
    "        plt.xticks([index + 0.2 for index in x], label_list)\n",
    "        #plt.xlabel(\"k=5\")\n",
    "        plt.title(\"Top 20\")\n",
    "        plt.legend(loc='upper center',fontsize='small')\n",
    "plt.tight_layout()\n",
    "#plt.figure()\n",
    "plt.show()"
   ]
  },
  {
   "cell_type": "code",
   "execution_count": 77,
   "metadata": {},
   "outputs": [
    {
     "data": {
      "image/png": "[encoded data removed]",
      "text/plain": [
       "<Figure size 432x288 with 1 Axes>"
      ]
     },
     "metadata": {
      "needs_background": "light"
     },
     "output_type": "display_data"
    }
   ],
   "source": [
    "import numpy as np\n",
    "import matplotlib.pyplot as plt\n",
    "#X轴，Y轴数据\n",
    "x = ['SVD','NMF','SVD++','PMF','IRT-based MF']\n",
    "y = [0.05374674,0.05681071,0.05376519,0.05647,0.0334453]\n",
    "plt.figure(figsize=(6,4)) #创建绘图对象\n",
    "plt.plot(x,y,\"b\",linewidth=2,marker='o')   #在当前绘图对象绘图（X轴，Y轴，蓝色虚线，线宽度）\n",
    "plt.ylabel(\"Value\")  #Y轴标签\n",
    "plt.ylim(0, 0.1)\n",
    "plt.title(\"RMSE\") #图标题\n",
    "plt.xticks([index for index in x], x)\n",
    "plt.text(0,0.06,'0.053746')\n",
    "plt.text(1,0.06,'0.056810')\n",
    "plt.text(2,0.06,'0.053765')\n",
    "plt.text(3,0.06,'0.056470')\n",
    "plt.text(3.65,0.045,'0.03344')\n",
    "plt.show()  #显示图\n",
    "#plt.savefig(\"line.jpg\") #保存图"
   ]
  },
  {
   "cell_type": "code",
   "execution_count": 4,
   "metadata": {},
   "outputs": [
    {
     "data": {
      "image/png": "[encoded data removed]",
      "text/plain": [
       "<Figure size 720x576 with 4 Axes>"
      ]
     },
     "metadata": {
      "needs_background": "light"
     },
     "output_type": "display_data"
    }
   ],
   "source": [
    "import matplotlib.pyplot as plt\n",
    "import matplotlib\n",
    "\n",
    "plt.figure(figsize=(10,8))\n",
    "for i in range(4): \n",
    "    if i==0:\n",
    "        plt.subplot(2,2,i+1)#2行2列\n",
    "        label_list = ['Precision', 'Recall', 'NDCG']    # 横坐标刻度显示值\n",
    "        num_list1 = [0.47032433, 0.55948026, 0.60567746]      # SVD\n",
    "        num_list2 = [0.65832681, 0.5388143, 0.62009335]      # NMF\n",
    "        num_list3 = [0.56313299, 0.54730112, 0.60876195]      # SVD++\n",
    "        num_list4 = [0.64534554, 0.54452437, 0.73450164]      # IRT-MF\n",
    "        x = range(len(num_list1))\n",
    "\n",
    "        rects1 = plt.bar(left=range(len(num_list1)), height=num_list1, width=0.2, alpha=0.8, color='blue', label=\"SVD\")\n",
    "        rects2 = plt.bar(left=[i + 0.2 for i in x], height=num_list2, width=0.2, color='green', label=\"PMF\")\n",
    "        rects3 = plt.bar(left=[i + 0.4 for i in x], height=num_list3, width=0.2, color='gray', label=\"SVD++\")\n",
    "        rects4 = plt.bar(left=[i + 0.6 for i in x], height=num_list4, width=0.2, color='red', label=\"IRT-based MF\")\n",
    "        plt.ylim(0, 1)     # y轴取值范围\n",
    "        plt.ylabel(\"Value\")\n",
    "        plt.xticks([index + 0.2 for index in x], label_list)\n",
    "        #plt.xlabel(\"k=5\")\n",
    "        plt.title(\"Top 5\")\n",
    "        plt.legend(loc='upper center',fontsize='small')\n",
    "    if i==1:\n",
    "        plt.subplot(2,2,i+1)#2行2列\n",
    "        label_list = ['Precision', 'Recall', 'NDCG']    # 横坐标刻度显示值\n",
    "        num_list1 = [0.45253877, 0.61115407, 0.65185113]      # SVD\n",
    "        num_list2 = [0.65355756, 0.56750849, 0.67294798]      # NMF\n",
    "        num_list3 = [0.55688661, 0.57658179, 0.65915632]      # SVD++\n",
    "        num_list4 = [0.63577434, 0.59990276, 0.75442357]      # IRT-MF\n",
    "        x = range(len(num_list1))\n",
    "\n",
    "        rects1 = plt.bar(left=range(len(num_list1)), height=num_list1, width=0.2, alpha=0.8, color='blue', label=\"SVD\")\n",
    "        rects2 = plt.bar(left=[i + 0.2 for i in x], height=num_list2, width=0.2, color='green', label=\"PMF\")\n",
    "        rects3 = plt.bar(left=[i + 0.4 for i in x], height=num_list3, width=0.2, color='gray', label=\"SVD++\")\n",
    "        rects4 = plt.bar(left=[i + 0.6 for i in x], height=num_list4, width=0.2, color='red', label=\"IRT-based MF\")\n",
    "        plt.ylim(0, 1)     # y轴取值范围\n",
    "        plt.ylabel(\"Value\")\n",
    "        plt.xticks([index + 0.2 for index in x], label_list)\n",
    "        #plt.xlabel(\"k=5\")\n",
    "        plt.title(\"Top 10\")\n",
    "        plt.legend(loc='upper center',fontsize='small')\n",
    "    if i==2:\n",
    "        plt.subplot(2,2,i+1)#2行2列\n",
    "        label_list = ['Precision', 'Recall', 'NDCG']    # 横坐标刻度显示值\n",
    "        num_list1 = [0.4487284, 0.62349864, 0.6751525]      # SVD\n",
    "        num_list2 = [0.6524597, 0.56908273, 0.69850724]      # NMF\n",
    "        num_list3 = [0.55609458, 0.58103371, 0.68567681]      # SVD++\n",
    "        num_list4 = [0.62920554, 0.63537925,0.83470233]      # IRT-MF\n",
    "        x = range(len(num_list1))\n",
    "\n",
    "        rects1 = plt.bar(left=range(len(num_list1)), height=num_list1, width=0.2, alpha=0.8, color='blue', label=\"SVD\")\n",
    "        rects2 = plt.bar(left=[i + 0.2 for i in x], height=num_list2, width=0.2, color='green', label=\"PMF\")\n",
    "        rects3 = plt.bar(left=[i + 0.4 for i in x], height=num_list3, width=0.2, color='gray', label=\"SVD++\")\n",
    "        rects4 = plt.bar(left=[i + 0.6 for i in x], height=num_list4, width=0.2, color='red', label=\"IRT-based MF\")\n",
    "        plt.ylim(0, 1)     # y轴取值范围\n",
    "        plt.ylabel(\"Value\")\n",
    "        plt.xticks([index + 0.2 for index in x], label_list)\n",
    "        #plt.xlabel(\"k=5\")\n",
    "        plt.title(\"Top 15\")\n",
    "        plt.legend(loc='upper center',fontsize='small')\n",
    "    if i==3:\n",
    "        plt.subplot(2,2,i+1)#2行2列\n",
    "        label_list = ['Precision', 'Recall', 'NDCG']    # 横坐标刻度显示值\n",
    "        num_list1 = [0.44774307, 0.62557144, 0.69191594]      # SVD\n",
    "        num_list2 = [0.65239916, 0.56912735, 0.71548763]      # NMF\n",
    "        num_list3 = [0.55588295, 0.58156019, 0.70300885]      # SVD++\n",
    "        num_list4 = [0.62379936, 0.66120616, 0.85491894]      # IRT-MF\n",
    "        x = range(len(num_list1))\n",
    "\n",
    "        rects1 = plt.bar(left=range(len(num_list1)), height=num_list1, width=0.2, alpha=0.8, color='blue', label=\"SVD\")\n",
    "        rects2 = plt.bar(left=[i + 0.2 for i in x], height=num_list2, width=0.2, color='green', label=\"PMF\")\n",
    "        rects3 = plt.bar(left=[i + 0.4 for i in x], height=num_list3, width=0.2, color='gray', label=\"SVD++\")\n",
    "        rects4 = plt.bar(left=[i + 0.6 for i in x], height=num_list4, width=0.2, color='red', label=\"IRT-based MF\")\n",
    "        plt.ylim(0, 1)     # y轴取值范围\n",
    "        plt.ylabel(\"Value\")\n",
    "        plt.xticks([index + 0.2 for index in x], label_list)\n",
    "        #plt.xlabel(\"k=5\")\n",
    "        plt.title(\"Top 20\")\n",
    "        plt.legend(loc='upper center',fontsize='small')\n",
    "plt.tight_layout()\n",
    "#plt.figure()\n",
    "plt.show()"
   ]
  },
  {
   "cell_type": "code",
   "execution_count": 13,
   "metadata": {},
   "outputs": [
    {
     "data": {
      "image/png": "[encoded data removed]",
      "text/plain": [
       "<Figure size 432x288 with 1 Axes>"
      ]
     },
     "metadata": {
      "needs_background": "light"
     },
     "output_type": "display_data"
    }
   ],
   "source": [
    "import numpy as np\n",
    "import matplotlib.pyplot as plt\n",
    "#X轴，Y轴数据\n",
    "x = ['SVD','PMF','SVD++','IRT-based MF']\n",
    "y = [0.05374674,0.05647,0.05376519,0.0334453]\n",
    "plt.figure(figsize=(6,4)) #创建绘图对象\n",
    "plt.plot(x,y,\"b\",linewidth=2,marker='o')   #在当前绘图对象绘图（X轴，Y轴，蓝色虚线，线宽度）\n",
    "plt.ylabel(\"Value\")  #Y轴标签\n",
    "plt.ylim(0, 0.1)\n",
    "plt.title(\"RMSE\") #图标题\n",
    "plt.xticks([index for index in x], x)\n",
    "plt.text(0,0.06,'0.053746')\n",
    "plt.text(1,0.06,'0.056470')\n",
    "plt.text(2,0.06,'0.053765')\n",
    "plt.text(2.70,0.045,'0.03926')\n",
    "plt.show()  #显示图\n",
    "#plt.savefig(\"line.jpg\") #保存图"
   ]
  },
  {
   "cell_type": "code",
   "execution_count": 2,
   "metadata": {},
   "outputs": [
    {
     "data": {
      "image/png": "[encoded data removed]",
      "text/plain": [
       "<Figure size 720x576 with 4 Axes>"
      ]
     },
     "metadata": {
      "needs_background": "light"
     },
     "output_type": "display_data"
    }
   ],
   "source": [
    "import numpy as np\n",
    "import matplotlib.pyplot as plt\n",
    "\n",
    "plt.figure(figsize=(10,8))\n",
    "for i in range(4): \n",
    "    if i==0:\n",
    "        plt.subplot(2,2,i+1)#2行2列\n",
    "        x = ['SVD','PMF','SVD++','IRT-based MF']\n",
    "        y = [0.0535,0.0567,0.0536,0.0315]\n",
    "        plt.plot(x,y,\"b\",linewidth=2,marker='o')  \n",
    "        plt.xticks([index for index in x], x)\n",
    "        plt.text(0,0.06,'0.0535')\n",
    "        plt.text(1,0.06,'0.0567')\n",
    "        plt.text(2,0.06,'0.0536')\n",
    "        plt.text(2.70,0.045,'0.0315')\n",
    "        plt.ylim(0, 0.1)\n",
    "        plt.ylabel(\"RMSE\")\n",
    "        plt.title(\"Factors 50\") #图标题\n",
    "    if i==1:\n",
    "        plt.subplot(2,2,i+1)#2行2列\n",
    "        x = ['SVD','PMF','SVD++','IRT-based MF']\n",
    "        y = [0.0537,0.0567,0.0533,0.0334]\n",
    "        plt.plot(x,y,\"b\",linewidth=2,marker='o') \n",
    "        plt.xticks([index for index in x], x)\n",
    "        plt.text(0,0.06,'0.0537')\n",
    "        plt.text(1,0.06,'0.0567')\n",
    "        plt.text(2,0.06,'0.0533')\n",
    "        plt.text(2.70,0.045,'0.0334')\n",
    "        plt.ylim(0, 0.1)\n",
    "        plt.ylabel(\"RMSE\")\n",
    "        plt.title(\"Factors 100\") #图标题\n",
    "    if i==2:\n",
    "        plt.subplot(2,2,i+1)#2行2列\n",
    "        x = ['SVD','PMF','SVD++','IRT-based MF']\n",
    "        y = [0.0540,0.0567,0.0528,0.0354]\n",
    "        plt.plot(x,y,\"b\",linewidth=2,marker='o')\n",
    "        plt.xticks([index for index in x], x)\n",
    "        plt.text(0,0.06,'0.0540')\n",
    "        plt.text(1,0.06,'0.0567')\n",
    "        plt.text(2,0.06,'0.0528')\n",
    "        plt.text(2.70,0.045,'0.0354')\n",
    "        plt.ylim(0, 0.1)\n",
    "        plt.ylabel(\"RMSE\")\n",
    "        plt.title(\"Factors 200\") #图标题\n",
    "    if i==3:\n",
    "        plt.subplot(2,2,i+1)#2行2列\n",
    "        x = ['SVD','PMF','SVD++','IRT-based MF']\n",
    "        y = [0.0523,0.0569,0.0531,0.0351]\n",
    "        plt.plot(x,y,\"b\",linewidth=2,marker='o')\n",
    "        plt.xticks([index for index in x], x)\n",
    "        plt.text(0,0.06,'0.0523')\n",
    "        plt.text(1,0.06,'0.0569')\n",
    "        plt.text(2,0.06,'0.0531')\n",
    "        plt.text(2.70,0.045,'0.0351')\n",
    "        plt.ylim(0, 0.1)\n",
    "        plt.ylabel(\"RMSE\")\n",
    "        plt.title(\"Factors 500\") #图标题"
   ]
  },
  {
   "cell_type": "code",
   "execution_count": 17,
   "metadata": {},
   "outputs": [
    {
     "name": "stdout",
     "output_type": "stream",
     "text": [
      "Trainset shape is:2547452 rows and 3 columns\n",
      "Dataset Statistics: Interaction = 2547452, User = 10216, Item = 96323, Sparsity = 0.0026\n",
      "Testset shape is:1021600 rows and 3 columns\n"
     ]
    }
   ],
   "source": [
    "import numpy as np\n",
    "import pandas as pd\n",
    "import random\n",
    "#Loading the dataset and Excluding the outliers\n",
    "kbdata = pd.read_csv(\"/data/fjsdata/ctKngBase/kb.csv\", sep='|', low_memory=False)\n",
    "kbdata = kbdata.loc[(kbdata['num']<200)]#seven months, one per day\n",
    "#num_max=kbdata['num'].max()\n",
    "#num_min=kbdata['num'].min()\n",
    "#kbdata['num']=kbdata['num'].apply(lambda x: (x-num_min+1)*1.0/(num_max-num_min+1))\n",
    "trainset = kbdata[['csr','ke','num']]\n",
    "trainset.to_csv('/data/fjsdata/ctKngBase/kbcc_trainset.csv', index=False, sep='|')\n",
    "print ('Trainset shape is:%d rows and %d columns'%(trainset.shape[0],trainset.shape[1]))\n",
    "#generating the testset: u,i,r, including negtive items.\n",
    "list_ke = np.array(trainset['ke']).tolist() #get all items\n",
    "list_ke =  list(set(list_ke)) #drop duplicate\n",
    "list_csr = np.array(trainset['csr']).tolist()\n",
    "list_csr = list(set(list_csr))\n",
    "print('Dataset Statistics: Interaction = %d, User = %d, Item = %d, Sparsity = %.4f' % \n",
    "      (trainset.shape[0], len(list_csr), len(list_ke),trainset.shape[0]/(len(list_csr)*len(list_ke)) ))\n",
    "testset = []\n",
    "for csr in list_csr:\n",
    "    csr_pos = trainset[trainset['csr']==csr]\n",
    "    pos = random.sample(np.array(csr_pos).tolist(),1)[0]\n",
    "    testset.append(pos)#random get a positive item\n",
    "    n = 0\n",
    "    flag = True\n",
    "    while flag==True:\n",
    "        ke = random.sample(list_ke,1)[0]#random get a negtive item \n",
    "        if ke not in np.array(csr_pos['ke']).tolist():#negtive items\n",
    "            testset.append([csr,ke,0.0])\n",
    "            n=n+1\n",
    "            if n==99: flag=False\n",
    "        #else:#postive items\n",
    "        #    ke_pos = csr_pos[csr_pos['ke']==ke]\n",
    "        #    ke_pos = np.array(ke_pos).tolist()[0]\n",
    "        #    num = ke_pos[2]\n",
    "        #    testset.append([csr,ke,num])\n",
    "testset=pd.DataFrame(testset, columns=['csr', 'ke','num'])#list转换成 dataframe\n",
    "testset.to_csv('/data/fjsdata/ctKngBase/kbcc_testset.csv', index=False, sep='|')\n",
    "print ('Testset shape is:%d rows and %d columns'%(testset.shape[0],testset.shape[1]))"
   ]
  },
  {
   "cell_type": "code",
   "execution_count": 19,
   "metadata": {},
   "outputs": [
    {
     "name": "stdout",
     "output_type": "stream",
     "text": [
      "    csr     ke  num\n",
      "0  2986  42211  1.0\n",
      "1  2986  28115  2.0\n",
      "2  2986  29249  8.0\n",
      "3  2986  75667  1.0\n",
      "4  2986  74903  1.0\n"
     ]
    }
   ],
   "source": [
    "#print (testset[testset ['csr']==88])\n",
    "#print (trainset[trainset ['csr']==88])\n",
    "#kbdata = pd.read_csv(\"/data/fjsdata/ctKngBase/kbcc_testset.csv\", sep='|', low_memory=False, dtype={'csr':int, 'ke':int, 'num':float})\n",
    "kbdata = pd.read_csv(\"/data/fjsdata/ctKngBase/kbcc_trainset.csv\", sep='|', low_memory=False, dtype={'csr':int, 'ke':int, 'num':float})\n",
    "print(kbdata.head())"
   ]
  },
  {
   "cell_type": "code",
   "execution_count": 4,
   "metadata": {},
   "outputs": [
    {
     "name": "stdout",
     "output_type": "stream",
     "text": [
      "Trainset shape is:2323398 rows and 3 columns\n",
      "Dataset Statistics: Interaction = 2323398, User = 10209, Item = 96310, Sparsity = 0.0024\n",
      "Testset shape is:10209 rows and 3 columns\n"
     ]
    }
   ],
   "source": [
    "import numpy as np\n",
    "import pandas as pd\n",
    "import random\n",
    "#Loading the dataset and Excluding the outliers\n",
    "kbdata = pd.read_csv(\"/data/fjsdata/ctKngBase/kb.csv\", sep='|', low_memory=False)\n",
    "kbdata = kbdata.loc[(kbdata['num']<11)]#seven months, one per day\n",
    "trainset = kbdata[['csr','ke','num']]\n",
    "trainset.to_csv('/data/fjsdata/BMF/kbcc_trainset.csv', index=False, sep='|')\n",
    "print ('Trainset shape is:%d rows and %d columns'%(trainset.shape[0],trainset.shape[1]))\n",
    "#generating the testset: u,i,r, including negtive items.\n",
    "list_ke = np.array(trainset['ke']).tolist() #get all items\n",
    "list_ke =  list(set(list_ke)) #drop duplicate\n",
    "list_csr = np.array(trainset['csr']).tolist()\n",
    "list_csr = list(set(list_csr))\n",
    "print('Dataset Statistics: Interaction = %d, User = %d, Item = %d, Sparsity = %.4f' % \n",
    "      (trainset.shape[0], len(list_csr), len(list_ke),trainset.shape[0]/(len(list_csr)*len(list_ke)) ))\n",
    "testset = []\n",
    "for csr in list_csr:\n",
    "    csr_pos = trainset[trainset['csr']==csr]\n",
    "    testset.append(np.array(csr_pos).tolist()[-1])#get the last as test\n",
    "\n",
    "testset=pd.DataFrame(testset, columns=['csr', 'ke','num'])#list转换成 dataframe\n",
    "testset.to_csv('/data/fjsdata/BMF/kbcc_testset.csv', index=False, sep='|')\n",
    "print ('Testset shape is:%d rows and %d columns'%(testset.shape[0],testset.shape[1]))"
   ]
  },
  {
   "cell_type": "code",
   "execution_count": 2,
   "metadata": {},
   "outputs": [
    {
     "name": "stdout",
     "output_type": "stream",
     "text": [
      "Dataset Statistics: Interaction = 994169, User = 6040, Item = 3706, Sparsity = 0.0444\n",
      "                  user           item    rating\n",
      "Mean      3.023537e+03     872.860828  3.581378\n",
      "Std. dev  1.728320e+03     738.213243  1.116791\n",
      "Variance  2.987090e+06  544958.792605  1.247222\n"
     ]
    }
   ],
   "source": [
    "import numpy as np\n",
    "import pandas as pd\n",
    "\n",
    "filePath = \"/data/fjsdata/BMF/ml-1m.train.rating\" \n",
    "data = pd.read_csv(filePath, sep='\\t', header=None, names=['user', 'item', 'rating'], \\\n",
    "                                usecols=[0, 1, 2], dtype={0: np.int32, 1: np.int32, 2: np.float})\n",
    "maxu, maxi, maxr = data['user'].max()+1, data['item'].max()+1, data['rating'].max()\n",
    "print('Dataset Statistics: Interaction = %d, User = %d, Item = %d, Sparsity = %.4f' % \\\n",
    "                  (data.shape[0], maxu, maxi, data.shape[0]/(maxu*maxi)))\n",
    "rs = pd.DataFrame([data.mean(), data.std(), data.var()], index=['Mean', 'Std. dev', 'Variance'])\n",
    "print (rs)"
   ]
  },
  {
   "cell_type": "code",
   "execution_count": 4,
   "metadata": {},
   "outputs": [
    {
     "name": "stdout",
     "output_type": "stream",
     "text": [
      "Dataset Statistics: Interaction = 2323398, User = 10216, Item = 96324, Sparsity = 0.0024\n",
      "                   csr            ke       num\n",
      "Mean      4.789905e+03  5.251797e+04  2.204067\n",
      "Std. dev  2.658883e+03  2.590950e+04  1.959049\n",
      "Variance  7.069656e+06  6.713022e+08  3.837873\n"
     ]
    }
   ],
   "source": [
    "import numpy as np\n",
    "import pandas as pd\n",
    "\n",
    "filePath = \"/data/fjsdata/BMF/kbcc_trainset.csv\" \n",
    "data = pd.read_csv(filePath, sep='|', low_memory=False, dtype={'csr':int, 'ke':int, 'num':float})\n",
    "maxu, maxi, maxr = data['csr'].max()+1, data['ke'].max()+1, data['num'].max()\n",
    "print('Dataset Statistics: Interaction = %d, User = %d, Item = %d, Sparsity = %.4f' % \\\n",
    "                  (data.shape[0], maxu, maxi, data.shape[0]/(maxu*maxi)))\n",
    "rs = pd.DataFrame([data.mean(), data.std(), data.var()], index=['Mean', 'Std. dev', 'Variance'])\n",
    "print (rs)"
   ]
  },
  {
   "cell_type": "code",
   "execution_count": 5,
   "metadata": {},
   "outputs": [
    {
     "name": "stdout",
     "output_type": "stream",
     "text": [
      "10215\n",
      "96323\n",
      "Trainset shape is:2313189 rows and 3 columns\n",
      "10215\n",
      "96323\n",
      "Testset shape is:10209 rows and 3 columns\n"
     ]
    }
   ],
   "source": [
    "import numpy as np\n",
    "import pandas as pd\n",
    "import random\n",
    "#Loading the dataset and Excluding the outliers\n",
    "kbdata = pd.read_csv(\"/data/fjsdata/ctKngBase/kb.csv\", sep='|', low_memory=False)\n",
    "kbdata = kbdata.loc[(kbdata['num']<11)]#seven months, one per day\n",
    "kbdata = kbdata[['csr','ke','num']]\n",
    "print (kbdata['csr'].max())\n",
    "print (kbdata['ke'].max())\n",
    "#generating the testset: u,i,r, including negtive items.\n",
    "list_csr = np.array(kbdata['csr']).tolist()#get all users\n",
    "list_csr = list(set(list_csr))#drop duplicate\n",
    "testset = []\n",
    "trainset = []\n",
    "for csr in list_csr:\n",
    "    csr_pos = kbdata[kbdata['csr']==csr]\n",
    "    testset.append(np.array(csr_pos).tolist()[-1])#get the last as test\n",
    "    trainset.extend(np.array(csr_pos).tolist()[:-1])#del the last \n",
    "    \n",
    "trainset=pd.DataFrame(trainset, columns=['csr', 'ke','num'])#list转换成 dataframe\n",
    "trainset.to_csv('/data/fjsdata/BMF/kbcc_trainset.csv', index=False, sep='|')\n",
    "print ('Trainset shape is:%d rows and %d columns'%(trainset.shape[0],trainset.shape[1]))\n",
    "print (trainset['csr'].max())\n",
    "print (trainset['ke'].max())\n",
    "testset=pd.DataFrame(testset, columns=['csr', 'ke','num'])#list转换成 dataframe\n",
    "testset.to_csv('/data/fjsdata/BMF/kbcc_testset.csv', index=False, sep='|')\n",
    "print ('Testset shape is:%d rows and %d columns'%(testset.shape[0],testset.shape[1]))"
   ]
  },
  {
   "cell_type": "code",
   "execution_count": null,
   "metadata": {},
   "outputs": [],
   "source": []
  }
 ],
 "metadata": {
  "kernelspec": {
   "display_name": "Python 3",
   "language": "python",
   "name": "python3"
  },
  "language_info": {
   "codemirror_mode": {
    "name": "ipython",
    "version": 3
   },
   "file_extension": ".py",
   "mimetype": "text/x-python",
   "name": "python",
   "nbconvert_exporter": "python",
   "pygments_lexer": "ipython3",
   "version": "3.6.6"
  }
 },
 "nbformat": 4,
 "nbformat_minor": 2
}
